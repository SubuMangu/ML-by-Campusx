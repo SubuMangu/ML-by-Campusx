{
 "cells": [
  {
   "cell_type": "markdown",
   "metadata": {},
   "source": [
    "### **Merge funtion:**\n",
    "---"
   ]
  },
  {
   "cell_type": "code",
   "execution_count": 9,
   "metadata": {},
   "outputs": [],
   "source": [
    "#To find out orange cap folder in each year. IPL\n",
    "import pandas as pd \n",
    "match=pd.read_csv('matches - matches.csv')\n",
    "delivery=pd.read_csv('deliveries.csv')\n",
    "#Merge is simmilar to join in sql\n",
    "#Both the columns must have a relation to merge\n",
    "# we similar columns 'match_id' and 'id'\"\n",
    "new=delivery.merge(match,left_on='match_id',right_on='id')"
   ]
  },
  {
   "cell_type": "code",
   "execution_count": 7,
   "metadata": {},
   "outputs": [
    {
     "name": "stdout",
     "output_type": "stream",
     "text": [
      "(150460, 21)\n",
      "(636, 18)\n"
     ]
    }
   ],
   "source": [
    "print(delivery.shape)\n",
    "print(match.shape)"
   ]
  },
  {
   "cell_type": "code",
   "execution_count": null,
   "metadata": {},
   "outputs": [],
   "source": [
    "new.groupby(['season','batsman'])['batsman_runs'].sum()\n",
    "#Multi-imdex series\n"
   ]
  },
  {
   "cell_type": "code",
   "execution_count": null,
   "metadata": {},
   "outputs": [],
   "source": [
    "new.groupby(['season','batsman'])['batsman_runs'].sum().reset_index().sort_values('')"
   ]
  },
  {
   "cell_type": "code",
   "execution_count": null,
   "metadata": {},
   "outputs": [],
   "source": [
    "new.groupby(['season','batsman'])['batsman_runs'].sum().sort_values(ascending=False).reset_index().drop_duplicates(subset='season',keep='first').sort_values('season')[['season','batsman']]"
   ]
  }
 ],
 "metadata": {
  "kernelspec": {
   "display_name": "base",
   "language": "python",
   "name": "python3"
  },
  "language_info": {
   "codemirror_mode": {
    "name": "ipython",
    "version": 3
   },
   "file_extension": ".py",
   "mimetype": "text/x-python",
   "name": "python",
   "nbconvert_exporter": "python",
   "pygments_lexer": "ipython3",
   "version": "3.11.4"
  }
 },
 "nbformat": 4,
 "nbformat_minor": 2
}
