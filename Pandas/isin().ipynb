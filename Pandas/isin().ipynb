{
 "cells": [
  {
   "cell_type": "markdown",
   "metadata": {},
   "source": [
    "### **isin():**\n",
    "---"
   ]
  },
  {
   "cell_type": "code",
   "execution_count": 1,
   "metadata": {},
   "outputs": [],
   "source": [
    "#Find the most destructive death over batsman in the history of IPL.\n",
    "#Strike Rate=(number of runs/Number of balls)/100\n",
    "#Min batsman played 200 balls in over 16-20\n",
    "import pandas as pd\n",
    "delivery=pd.read_csv(\"deliveries.csv\")\n"
   ]
  },
  {
   "cell_type": "code",
   "execution_count": 6,
   "metadata": {},
   "outputs": [],
   "source": [
    "death_over=delivery[delivery['over']>15]"
   ]
  },
  {
   "cell_type": "code",
   "execution_count": null,
   "metadata": {},
   "outputs": [],
   "source": [
    "all_batsman=death_over.groupby('batsman')['batsman_runs'].count()\n",
    "all_batsman\n"
   ]
  },
  {
   "cell_type": "code",
   "execution_count": null,
   "metadata": {},
   "outputs": [],
   "source": [
    "x=all_batsman>200\n",
    "batsman_list=all_batsman[x].index.to_list()\n",
    "batsman_list"
   ]
  },
  {
   "cell_type": "code",
   "execution_count": null,
   "metadata": {},
   "outputs": [],
   "source": [
    "#Now we will calculate runs and balls played by all these 43 batsmen\n",
    "#For that purpose, we can use 43 different masks which is practically not possible\n",
    "# So in this case, we will use isin()\n",
    "delivery['batsman'].isin(batsman_list)"
   ]
  },
  {
   "cell_type": "code",
   "execution_count": null,
   "metadata": {},
   "outputs": [],
   "source": [
    "final=delivery[delivery['batsman'].isin(batsman_list)]\n",
    "#runs\n",
    "runs=final.groupby('batsman')['batsman_runs'].sum()\n",
    "runs"
   ]
  },
  {
   "cell_type": "code",
   "execution_count": null,
   "metadata": {},
   "outputs": [],
   "source": [
    "balls=final.groupby('batsman')['batsman_runs'].count()\n",
    "balls"
   ]
  },
  {
   "cell_type": "code",
   "execution_count": null,
   "metadata": {},
   "outputs": [],
   "source": [
    "#strike rate\n",
    "sr=(runs/balls)*100\n",
    "sr"
   ]
  }
 ],
 "metadata": {
  "kernelspec": {
   "display_name": "base",
   "language": "python",
   "name": "python3"
  },
  "language_info": {
   "codemirror_mode": {
    "name": "ipython",
    "version": 3
   },
   "file_extension": ".py",
   "mimetype": "text/x-python",
   "name": "python",
   "nbconvert_exporter": "python",
   "pygments_lexer": "ipython3",
   "version": "3.11.4"
  }
 },
 "nbformat": 4,
 "nbformat_minor": 2
}
